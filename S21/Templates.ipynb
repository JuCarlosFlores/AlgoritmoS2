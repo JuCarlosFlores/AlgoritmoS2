{
  "nbformat": 4,
  "nbformat_minor": 0,
  "metadata": {
    "colab": {
      "name": "Templates.ipynb",
      "provenance": [],
      "authorship_tag": "ABX9TyOXnmIF8jzGMUXEqAI1/YSo"
    },
    "kernelspec": {
      "name": "python3",
      "display_name": "Python 3"
    },
    "language_info": {
      "name": "python"
    }
  },
  "cells": [
    {
      "cell_type": "markdown",
      "source": [
        "#Lo basico\n",
        "\n",
        "Ejemplo 1"
      ],
      "metadata": {
        "id": "IvkzjWBQEk0q"
      }
    },
    {
      "cell_type": "code",
      "execution_count": null,
      "metadata": {
        "colab": {
          "base_uri": "https://localhost:8080/"
        },
        "id": "xQMOMuYNCGIY",
        "outputId": "a9896f03-5f1e-43a8-925d-78c7fbea856e"
      },
      "outputs": [
        {
          "output_type": "stream",
          "name": "stdout",
          "text": [
            "Writing ejemplo1.cpp\n"
          ]
        }
      ],
      "source": [
        "%%writefile ejemplo1.cpp\n",
        "#include <iostream>\n",
        "using namespace std;\n",
        "\n",
        "int main(){\n",
        "    cout<<\"Hola mundo\";\n",
        "    return 0;\n",
        "}"
      ]
    },
    {
      "cell_type": "code",
      "source": [
        "!g++ ejemplo1.cpp"
      ],
      "metadata": {
        "id": "nxgVKPtODtsN"
      },
      "execution_count": null,
      "outputs": []
    },
    {
      "cell_type": "code",
      "source": [
        "!./a.out"
      ],
      "metadata": {
        "colab": {
          "base_uri": "https://localhost:8080/"
        },
        "id": "gcOfTZKoEMBj",
        "outputId": "af5723d7-c215-4cf8-eb39-b0555d60ed03"
      },
      "execution_count": null,
      "outputs": [
        {
          "output_type": "stream",
          "name": "stdout",
          "text": [
            "Hola mundo"
          ]
        }
      ]
    },
    {
      "cell_type": "code",
      "source": [
        "!g++ ejemplo1.cpp && ./a.out"
      ],
      "metadata": {
        "colab": {
          "base_uri": "https://localhost:8080/"
        },
        "id": "x7PpuBNIFCXp",
        "outputId": "5e3b0978-8cd7-4b91-eab6-f9d5e6d645e6"
      },
      "execution_count": null,
      "outputs": [
        {
          "output_type": "stream",
          "name": "stdout",
          "text": [
            "Hola mundo"
          ]
        }
      ]
    },
    {
      "cell_type": "markdown",
      "source": [
        "#Ejemplo 2\n",
        "Elaborar un programa en entorno consola que permita almacenar en un arreglo hasta 100 valores enteros. Luego realice lo siguiente:\n",
        "* Generar los datos del arreglo en forma aleatoria\n",
        "*\tListar en pantalla los elementos del arreglo\n",
        "*\tBuscar el mayor y mostrar su ubicación\n",
        "*\tBuscar el menor y mostrar su ubicación\n",
        "*\tOrdenar el arreglo en forma descendente y mostrarlo en pantalla\n",
        "En la solución considere un menú de opciones para cada funcionalidad y utilice funciones, punteros y arreglos dinámicos."
      ],
      "metadata": {
        "id": "e5VuxAmTFs0r"
      }
    },
    {
      "cell_type": "code",
      "source": [
        "%%writefile Biblioteca.hpp\n",
        "#include <iostream>\n",
        "#include <cstdlib>// srand, rand\n",
        "#include <ctime>//time\n",
        "\n",
        "using std::cout;\n",
        "using std::cin;\n",
        "\n",
        "void generar(short* a, size_t n);\n",
        "void listar(short*, size_t);\n",
        "void mayor(short*, size_t);\n",
        "void ordenar(short*, size_t);\n",
        "void mayorPromedio(short* a, size_t n);"
      ],
      "metadata": {
        "colab": {
          "base_uri": "https://localhost:8080/"
        },
        "id": "FuU55dqAFu3B",
        "outputId": "56fa76f0-832a-4e26-d623-f3314886e2dc"
      },
      "execution_count": null,
      "outputs": [
        {
          "output_type": "stream",
          "name": "stdout",
          "text": [
            "Overwriting Biblioteca.hpp\n"
          ]
        }
      ]
    },
    {
      "cell_type": "code",
      "source": [
        "%%writefile Biblioteca.cpp\n",
        "#include \"Biblioteca.hpp\"\n",
        "\n",
        "void generar(short* a, size_t n){\n",
        "  for(size_t i=0;i<n;++i){\n",
        "      a[i]=rand()%101+100;//rango de 100 a 200    \n",
        "  }  \n",
        "}\n",
        "\n",
        "void listar(short* a, size_t n){\n",
        "for(size_t i=0;i<n;++i){\n",
        "      cout<<i<<\"-> \"<<a[i]<<\"\\n\";\n",
        "  }  \n",
        "}\n",
        "\n",
        "void mayor(short* a, size_t n){\n",
        "  short _mayor=a[0], _pos=-1;\n",
        "  \n",
        "for(size_t i=1;i<n;++i){\n",
        "  if(a[i]>_mayor){\n",
        "      _mayor=a[i];//actualizo el mayor\n",
        "      _pos=i;\n",
        "    }\n",
        "  }\n",
        "  cout<<\"El mayor valor es\"<<_mayor<<\" y se encuentra en la posicion\"<<_pos<<\"\\n\";\n",
        "}\n",
        "void ordenar(short* a, size_t n){\n",
        "  for(int i=0;i<n-1;++i){\n",
        "  for(int j=i+1;j<n;++j){\n",
        "   if(a[i]>a[j]){\n",
        "    short aux=a[i];\n",
        "    a[i]=a[j];\n",
        "    a[j]=aux;\n",
        "  }\n",
        "}\n",
        "    }\n",
        "}\n",
        "void mayorPromedio(short* a, size_t n){\n",
        "  float prom=0.0f;    \n",
        "  //obteniendo el promedio\n",
        "  for(int i=0;i<n;++i)\n",
        "        prom+=a[i];\n",
        "  prom/=n;//prom=prom/n   \n",
        "  //listar mayor al promedio\n",
        "  for(int i=0;i<n-1;++i)\n",
        "        if(a[i]>prom)cout<<i<<\"->\"<<a[i]<<\"\\n\";\n",
        "  }"
      ],
      "metadata": {
        "colab": {
          "base_uri": "https://localhost:8080/"
        },
        "id": "uI99g0z3IiSf",
        "outputId": "d161cd74-dfa8-41df-d45d-22fe6225a278"
      },
      "execution_count": null,
      "outputs": [
        {
          "output_type": "stream",
          "name": "stdout",
          "text": [
            "Writing Biblioteca.cpp\n"
          ]
        }
      ]
    },
    {
      "cell_type": "code",
      "source": [
        "%%writefile ejemplo2.cpp\n",
        "#include \"Biblioteca.hpp\"\n",
        "int main() {\n",
        "short* arreglo=new short[100];  \n",
        "srand(time(NULL));//inicializacion de la semilla\n",
        "generar(arreglo,100);\n",
        "listar(arreglo, 100);\n",
        "//mayor(arreglo, 100);  \n",
        "ordenar(arreglo, 100);\n",
        "cout<<\"-------------\\n\";\n",
        "//listar(arreglo, 100);\n",
        "  mayorPromedio(arreglo, 100);\n",
        "}"
      ],
      "metadata": {
        "colab": {
          "base_uri": "https://localhost:8080/"
        },
        "id": "Mq-l0ql0I9ys",
        "outputId": "a5e7ac0b-5813-40ee-88ae-16872433bd0d"
      },
      "execution_count": null,
      "outputs": [
        {
          "output_type": "stream",
          "name": "stdout",
          "text": [
            "Writing ejemplo2.cpp\n"
          ]
        }
      ]
    },
    {
      "cell_type": "code",
      "source": [
        "!g++ Biblioteca.cpp ejemplo2.cpp && ./a.out"
      ],
      "metadata": {
        "id": "m3HoxRqPJxUl"
      },
      "execution_count": null,
      "outputs": []
    },
    {
      "cell_type": "markdown",
      "source": [
        "#Ejemplo 3\n",
        "\n",
        "Del ejemplo anterior pero esta vez utilizando template"
      ],
      "metadata": {
        "id": "gV49PnPLOfJH"
      }
    },
    {
      "cell_type": "code",
      "source": [
        "%%writefile Biblioteca.hpp\n",
        "#include <iostream>\n",
        "#include <cstdlib>// srand, rand\n",
        "#include <ctime>//time\n",
        "using std::cout;\n",
        "using std::cin;\n",
        "\n",
        "template <typename Generico>\n",
        "class MiArreglo{\n",
        "    Generico* a;\n",
        "    size_t n;\n",
        "    size_t id;\n",
        "    public:\n",
        "    MiArreglo(){\n",
        "        n=10;\n",
        "        a=new Generico[n];\n",
        "        id=0;\n",
        "    }\n",
        "void insertar(Generico g){\n",
        "    if(id<n){\n",
        "     a[id++]=g;\n",
        "    }\n",
        "}\n",
        "void listar(){\n",
        "    for(size_t i=0; i<n; ++i){\n",
        "        cout<<i<<\"-> \"<<a[i]<<\"\\n\";\n",
        "    }\n",
        "}\n",
        "void mayor(){\n",
        "  Generico _mayor=a[0], _pos=-1;\n",
        "  \n",
        "for(size_t i=1;i<n;++i){\n",
        "  if(a[i]>_mayor){\n",
        "      _mayor=a[i];//actualizo el mayor\n",
        "      _pos=i;\n",
        "    }\n",
        "  }\n",
        "  cout<<\"El mayor valor es \"<<_mayor<<\" y se encuentra en la posicion \"<<_pos<<\"\\n\";\n",
        "}\n",
        "\n",
        "\n",
        "void ordenar(){\n",
        "  for(int i=0;i<n-1;++i){\n",
        "  for(int j=i+1;j<n;++j){\n",
        "   if(a[i]>a[j]){\n",
        "    Generico aux=a[i];\n",
        "    a[i]=a[j];\n",
        "    a[j]=aux;\n",
        "  }\n",
        "}\n",
        "    }\n",
        "}\n",
        "\n",
        "void mayorPromedio(){\n",
        "  float prom=0.0f;    \n",
        "  //obteniendo el promedio\n",
        "  for(int i=0;i<n;++i)\n",
        "        prom+=a[i];\n",
        "  prom/=n;//prom=prom/n   \n",
        "  //listar mayor al promedio\n",
        "  for(int i=0;i<n-1;++i)\n",
        "        if(a[i]>prom)cout<<i<<\"->\"<<a[i]<<\"\\n\";\n",
        "  }\n",
        "};"
      ],
      "metadata": {
        "colab": {
          "base_uri": "https://localhost:8080/"
        },
        "id": "DK1GTGhvOhJV",
        "outputId": "838d7436-c6d8-4b87-bc8a-afdb0df04cfe"
      },
      "execution_count": null,
      "outputs": [
        {
          "output_type": "stream",
          "name": "stdout",
          "text": [
            "Overwriting Biblioteca.hpp\n"
          ]
        }
      ]
    },
    {
      "cell_type": "code",
      "source": [
        "%%writefile ejemplo3.cpp\n",
        "#include \"Biblioteca.hpp\"\n",
        "int main(){\n",
        "    MiArreglo<short>* arr1=new MiArreglo<short>();\n",
        "    MiArreglo<float>* arr2=new MiArreglo<float>();\n",
        "    MiArreglo<long>* arr3=new MiArreglo<long>();\n",
        "    for(size_t i=0; i<10;++i){\n",
        "        arr1->insertar(i);\n",
        "        arr2->insertar(i*1.654);\n",
        "        arr3->insertar(i*1000000);\n",
        "    }\n",
        "    arr1->listar();\n",
        "    cout<<\"\\n\";\n",
        "    arr2->listar();\n",
        "    cout<<\"\\n\";\n",
        "    arr3->listar();\n",
        "    cout<<\"\\n\";\n",
        "    arr2->mayor();\n",
        "}"
      ],
      "metadata": {
        "colab": {
          "base_uri": "https://localhost:8080/"
        },
        "id": "j-m8ML7NSZ-1",
        "outputId": "cb277c54-4aec-4f3b-8b1a-7c3ef16428f6"
      },
      "execution_count": null,
      "outputs": [
        {
          "output_type": "stream",
          "name": "stdout",
          "text": [
            "Overwriting ejemplo3.cpp\n"
          ]
        }
      ]
    },
    {
      "cell_type": "code",
      "source": [
        "!g++ ejemplo3.cpp &&./a.out"
      ],
      "metadata": {
        "colab": {
          "base_uri": "https://localhost:8080/"
        },
        "id": "hTgXYctLUW-z",
        "outputId": "a7934764-1a8a-4177-9f18-1089ad4ae972"
      },
      "execution_count": null,
      "outputs": [
        {
          "output_type": "stream",
          "name": "stdout",
          "text": [
            "0-> 0\n",
            "1-> 1\n",
            "2-> 2\n",
            "3-> 3\n",
            "4-> 4\n",
            "5-> 5\n",
            "6-> 6\n",
            "7-> 7\n",
            "8-> 8\n",
            "9-> 9\n",
            "\n",
            "0-> 0\n",
            "1-> 1.654\n",
            "2-> 3.308\n",
            "3-> 4.962\n",
            "4-> 6.616\n",
            "5-> 8.27\n",
            "6-> 9.924\n",
            "7-> 11.578\n",
            "8-> 13.232\n",
            "9-> 14.886\n",
            "\n",
            "0-> 0\n",
            "1-> 1000000\n",
            "2-> 2000000\n",
            "3-> 3000000\n",
            "4-> 4000000\n",
            "5-> 5000000\n",
            "6-> 6000000\n",
            "7-> 7000000\n",
            "8-> 8000000\n",
            "9-> 9000000\n",
            "\n",
            "El mayor valor es 14.886 y se encuentra en la posicion 9\n"
          ]
        }
      ]
    },
    {
      "cell_type": "markdown",
      "source": [
        "# **Tarea hacer las pruebas de los otros metodos y subirlo a su repositorio**"
      ],
      "metadata": {
        "id": "Q7jWJxSYWehG"
      }
    }
  ]
}