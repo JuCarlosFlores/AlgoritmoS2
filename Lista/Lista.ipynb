{
  "nbformat": 4,
  "nbformat_minor": 0,
  "metadata": {
    "colab": {
      "name": "Lista.ipynb",
      "provenance": [],
      "collapsed_sections": [],
      "authorship_tag": "ABX9TyOf3mJ8stx+rU5CeDMSV5eH",
      "include_colab_link": true
    },
    "kernelspec": {
      "name": "python3",
      "display_name": "Python 3"
    },
    "language_info": {
      "name": "python"
    }
  },
  "cells": [
    {
      "cell_type": "markdown",
      "metadata": {
        "id": "view-in-github",
        "colab_type": "text"
      },
      "source": [
        "<a href=\"https://colab.research.google.com/github/JuCarlosFlores/AlgoritmoS2/blob/main/Lista/Lista.ipynb\" target=\"_parent\"><img src=\"https://colab.research.google.com/assets/colab-badge.svg\" alt=\"Open In Colab\"/></a>"
      ]
    },
    {
      "cell_type": "markdown",
      "source": [
        "# Listas\n"
      ],
      "metadata": {
        "id": "TU1w4ek21dJy"
      }
    },
    {
      "cell_type": "code",
      "execution_count": null,
      "metadata": {
        "id": "msu4kcTvA8CI",
        "colab": {
          "base_uri": "https://localhost:8080/"
        },
        "outputId": "9387be93-4e4d-4762-fa8a-3cbc76eae097"
      },
      "outputs": [
        {
          "output_type": "stream",
          "name": "stdout",
          "text": [
            "Overwriting Listas.cpp\n"
          ]
        }
      ],
      "source": [
        "%%writefile Listas.cpp\n",
        "#include <iostream>\n",
        "using namespace std;\n",
        "\n",
        "struct Node{\n",
        "  int elemento;\n",
        "  Node* sig;\n",
        "  Node(int e){elemento=e;sig=nullptr;}\n",
        "};\n",
        "\n",
        "class List{\n",
        "  Node* inicio;\n",
        "  Node* final;\n",
        "  size_t cantidad;\n",
        "  public:\n",
        "  List(){\n",
        "    inicio=final=nullptr; \n",
        "    cantidad=0;\n",
        "  }\n",
        "\n",
        "  void push_back(int v){//insertar al final O(n)\n",
        "    Node* n=new Node(v);\n",
        "    if(inicio==nullptr)//cantidad==0       \n",
        "      inicio=n;\n",
        "    else{\n",
        "      Node* aux=inicio;\n",
        "      while(aux->sig!=nullptr){//recorrer hasta el ultimo elemento\n",
        "          aux=aux->sig;\n",
        "      }\n",
        "      aux->sig=n;\n",
        "    }\n",
        "    ++cantidad;\n",
        "  }\n",
        "  //insertar al final O(1)\n",
        "  void push_back_final(int v){\n",
        "      Node* n=new Node(v);\n",
        "      if(inicio==nullptr)\n",
        "      inicio=final=n;\n",
        "      else {\n",
        "          final->sig=n;\n",
        "          final=final->sig;\n",
        "      }\n",
        "      ++cantidad;\n",
        "  }\n",
        "\n",
        "  //PushFront O(1) = Insertar al inicio\n",
        "void push_front(int v){\n",
        " Node* n = new Node(v);\n",
        " if(inicio == nullptr)\n",
        "\tinicio = n;\n",
        " else{\n",
        "\tn->sig=inicio;\n",
        "\tinicio=n; \n",
        " }  \n",
        " ++cantidad;\n",
        "}\n",
        "};\n",
        " \n",
        "int main(){\n",
        "  return 0;\n",
        "}"
      ]
    },
    {
      "cell_type": "code",
      "source": [
        "!g++ Listas.cpp && ./a.out"
      ],
      "metadata": {
        "id": "Omq7fZWKSQd2"
      },
      "execution_count": null,
      "outputs": []
    },
    {
      "cell_type": "markdown",
      "source": [
        "# Asignación\n",
        "\n",
        "  //1-obtener objeto en posicion = at()\n",
        "  //2-eliminar en posicion(n), \n",
        "  //3-eliminar al inicio\n",
        "  //4-eliminar al final\n",
        "  //5-ordenar elementos(n2)\n",
        "  //6-buscar por valor(n)\n",
        "  //7-invertir lista(n2)\n",
        "  //8-buscar solo elementos pares\n",
        "  //9-listar con uso de lambdas\n",
        "  //10-listar de forma recursiva"
      ],
      "metadata": {
        "id": "6hKOQ4LRamG-"
      }
    },
    {
      "cell_type": "markdown",
      "source": [
        "**Ejercicios 6 y 7**"
      ],
      "metadata": {
        "id": "ucSopyhI1u6D"
      }
    },
    {
      "cell_type": "code",
      "source": [
        "%%writefile Ejercicios67.cpp\n",
        "#include <iostream>\n",
        "using namespace std;\n",
        "\n",
        "struct Node{\n",
        "  int elemento;\n",
        "  Node* sig;\n",
        "  Node(int e){elemento=e;sig=nullptr;}\n",
        "};\n",
        "\n",
        "class List{\n",
        "  Node* inicio;\n",
        "  Node* final;\n",
        "  size_t cantidad;\n",
        "  public:\n",
        "  List(){\n",
        "  inicio=final=nullptr; \n",
        "  cantidad=0;\n",
        "  }\n",
        "\n",
        "  void push_back(int v){//insertar al final O(n)\n",
        "    Node* n=new Node(v);\n",
        "    if(inicio==nullptr)//cantidad==0       \n",
        "      inicio=n;\n",
        "    else{\n",
        "      Node* aux=inicio;\n",
        "      while(aux->sig!=nullptr){//recorrer hasta el ultimo elemento\n",
        "          aux=aux->sig;\n",
        "      }\n",
        "      aux->sig=n;\n",
        "    }\n",
        "    ++cantidad;\n",
        "  }\n",
        "\n",
        "  void Buscar(int v){\n",
        "      Node* aux=inicio;\n",
        "      int auxiliar=0;\n",
        "      while(aux->sig!=nullptr){\n",
        "          if(aux->sig==v)\n",
        "          auxiliar=catidad;\n",
        "          aux=aux->sig;\n",
        "      }\n",
        "      cout<<\"El numero \"<<v<<\"se encuentra en la posicion \"<<auxiliar<<endl;\n",
        "  }\n",
        "\n",
        "  Node* at(int posicion){\n",
        "    if(posicion >=0 && posicion<cantidad){\n",
        "     Nodo* aux=inicio;\n",
        "     if(posicion !=0){\n",
        "      while(posicion--)\n",
        "        aux=aux->next;\n",
        "      }\n",
        "    return aux;\n",
        "    }\n",
        " }\n",
        "\n",
        "  void InvertirLista(int v){\n",
        "    Node* aux;\n",
        "    Node* aux2;\n",
        "    for(int i=cantidad;i>=0;--i){\n",
        "        aux->sig=aux->at(i);\n",
        "        delete inicio;\n",
        "        inicio=aux\n",
        "    }\n",
        "  }\n",
        "\n",
        "};\n",
        "int main(){\n",
        "    return 0;\n",
        "}"
      ],
      "metadata": {
        "id": "LMAk3_tTv4C3"
      },
      "execution_count": null,
      "outputs": []
    },
    {
      "cell_type": "markdown",
      "source": [
        "**Ejercicios 9 y 10**"
      ],
      "metadata": {
        "id": "w2o5dw151zNf"
      }
    },
    {
      "cell_type": "code",
      "source": [
        "%%writefile Ejercicio910.cpp\n",
        "#include <iostream>\n",
        "using namespace std;\n",
        "\n",
        "template <class L>\n",
        "class Nodo{\n",
        "  public: \n",
        "    Nodo(Lnumero): numero(numero), sig(nullptr){}\n",
        "    ~Nodo(){}\n",
        "    Nodo<L>* sig;\n",
        "  private:\n",
        "};\n",
        "template <class L>\n",
        "class Lista{\n",
        "    public:\n",
        "    Lista():inicio(nullptr), cantidad(0){}\n",
        "    ~Lista(){}\n",
        "\n",
        "    void push_front(l num){\n",
        "      if(inicio=nullptr)\n",
        "       this->inicio=new Nodo<L>(num);\n",
        "      else{\n",
        "          Nodo<L>* aux= this->inicio;\n",
        "          this->inicio=new Nodo<L>(num);\n",
        "          this->inicio->sig=aux;\n",
        "      }\n",
        "      ++this->cantidad;\n",
        "    }\n",
        "    void push_back(L num){\n",
        "        if(inicio==nullptr)\n",
        "        this->inicio=new Nodo<L>(num);\n",
        "        else{\n",
        "            Nodo<L>* aux=this->inicio;\n",
        "             while(aux->sig !=nullptr)\n",
        "              aux=aux->sig;\n",
        "            aux->sig=new Nodo<L>(num);\n",
        "        }\n",
        "        ++this->size;\n",
        "    }\n",
        "}\n",
        "int main(){\n",
        "    return 0;\n",
        "}"
      ],
      "metadata": {
        "id": "lORijPhftY6o"
      },
      "execution_count": null,
      "outputs": []
    }
  ]
}